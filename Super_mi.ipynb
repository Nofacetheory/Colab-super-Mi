{
  "cells": [
    {
      "cell_type": "markdown",
      "metadata": {},
      "source": [
        "# 🤖 Super Mì – Trợ lý AI thời gian thực\n",
        "---\n",
        "**Hệ thống hỗ trợ AI miễn phí, chạy trực tiếp trên iPhone qua Google Colab**.\n",
        "- Múi giờ: GMT+7\n",
        "- Đồng bộ Firebase Realtime Database\n",
        "- Giao diện đơn giản, tương thích điện thoại\n",
        "---"
      ]
    },
    {
      "cell_type": "code",
      "execution_count": null,
      "metadata": {},
      "outputs": [],
      "source": [
        "#@title 🕒 Đồng bộ múi giờ GMT+7\n",
        "!pip install tzdata --quiet\n",
        "import os, time\n",
        "os.environ['TZ'] = 'Asia/Ho_Chi_Minh'\n",
        "time.tzset()\n",
        "print('⏰ Đang dùng múi giờ:', time.tzname[0])"
      ]
    },
    {
      "cell_type": "code",
      "execution_count": null,
      "metadata": {},
      "outputs": [],
      "source": [
        "#@title 🔐 Kết nối Firebase Realtime Database\n",
        "import firebase_admin\n",
        "from firebase_admin import credentials, db\n",
        "cred = credentials.Certificate('/content/firebase_key.json')\n",
        "firebase_admin.initialize_app(cred, {\n",
        "    'databaseURL': 'https://super-mi.firebaseio.com/'\n",
        "})\n",
        "print('✅ Firebase đã kết nối')"
      ]
    }
  ],
  "metadata": {
    "colab": {
      "name": "super_mi.ipynb",
      "provenance": []
    },
    "kernelspec": {
      "display_name": "Python 3",
      "language": "python",
      "name": "python3"
    },
    "language_info": {
      "name": "python"
    }
  },
  "nbformat": 4,
  "nbformat_minor": 0
}